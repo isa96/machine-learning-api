{
 "cells": [
  {
   "cell_type": "code",
   "execution_count": 1,
   "metadata": {},
   "outputs": [],
   "source": [
    "#!/usr/bin/python3\n",
    "\n",
    "import os\n",
    "import pickle\n",
    "import pandas as pd\n",
    "from sklearn.preprocessing import StandardScaler\n",
    "from sklearn.preprocessing import LabelEncoder\n",
    "from sklearn.preprocessing import OneHotEncoder\n",
    "from sklearn.linear_model import LogisticRegression\n",
    "\n",
    "import warnings\n",
    "warnings.filterwarnings('ignore')"
   ]
  },
  {
   "cell_type": "code",
   "execution_count": 3,
   "metadata": {},
   "outputs": [],
   "source": [
    "def colPreparation():\n",
    "    labelEncoder = ['Gender','Driving_License','Previously_Insured','Vehicle_Damage']\n",
    "    oneHotEncoder = ['Vehicle_Age','Region_Code','Policy_Sales_Channel']\n",
    "    scallingStandar = ['Age','Annual_Premium','Vintage']\n",
    "    return labelEncoder, oneHotEncoder, scallingStandar"
   ]
  },
  {
   "cell_type": "code",
   "execution_count": 4,
   "metadata": {},
   "outputs": [],
   "source": [
    "def runModel(data, typed='multi'):\n",
    "    path = pathPackages = os.getcwd()+\"\\\\\"+\"packages\"+\"\\\\\"\n",
    "    model = pickle.load(open(path + 'model_InsuranceRecommendation.pkl', 'rb'))\n",
    "    col_p = pickle.load(open(path + 'columnPreparation.pkl', 'rb'))\n",
    "    col_m = pickle.load(open(path + 'columnModelling.pkl', 'rb'))\n",
    "\n",
    "    X = data[col_p]\n",
    "    colEncoder, colpOneHotEncoder, colStandarScaler = colPreparation()\n",
    "    for col in X.columns:\n",
    "        prep = pickle.load(open(path + 'prep' + col + '.pkl', 'rb'))\n",
    "        if col in colpOneHotEncoder:\n",
    "            dfTemp = pd.DataFrame(prep.transform(X[[col]]).toarray())\n",
    "            X = pd.concat([X.drop(col, axis=1), dfTemp], axis=1)\n",
    "        else:\n",
    "            dfTemp = pd.DataFrame(prep.transform(X[[col]]))\n",
    "            X = pd.concat([X.drop(col, axis=1), dfTemp], axis=1)\n",
    "    X.columns = col_m\n",
    "    \n",
    "    if typed == 'multi':\n",
    "        y = model.predict(X)\n",
    "        return y\n",
    "    \n",
    "    elif typed == 'single':\n",
    "        y = model.predict(X)[0]\n",
    "        if y == 0:\n",
    "            return 0\n",
    "        else:\n",
    "            return 1\n",
    "    else:\n",
    "        return False"
   ]
  },
  {
   "cell_type": "code",
   "execution_count": 5,
   "metadata": {},
   "outputs": [
    {
     "data": {
      "text/html": [
       "<div>\n",
       "<style scoped>\n",
       "    .dataframe tbody tr th:only-of-type {\n",
       "        vertical-align: middle;\n",
       "    }\n",
       "\n",
       "    .dataframe tbody tr th {\n",
       "        vertical-align: top;\n",
       "    }\n",
       "\n",
       "    .dataframe thead th {\n",
       "        text-align: right;\n",
       "    }\n",
       "</style>\n",
       "<table border=\"1\" class=\"dataframe\">\n",
       "  <thead>\n",
       "    <tr style=\"text-align: right;\">\n",
       "      <th></th>\n",
       "      <th>Gender</th>\n",
       "      <th>Age</th>\n",
       "      <th>Driving_License</th>\n",
       "      <th>Region_Code</th>\n",
       "      <th>Previously_Insured</th>\n",
       "      <th>Vehicle_Age</th>\n",
       "      <th>Vehicle_Damage</th>\n",
       "      <th>Annual_Premium</th>\n",
       "      <th>Policy_Sales_Channel</th>\n",
       "      <th>Vintage</th>\n",
       "    </tr>\n",
       "  </thead>\n",
       "  <tbody>\n",
       "    <tr>\n",
       "      <th>0</th>\n",
       "      <td>Male</td>\n",
       "      <td>25</td>\n",
       "      <td>1</td>\n",
       "      <td>11</td>\n",
       "      <td>1</td>\n",
       "      <td>&lt; 1 Year</td>\n",
       "      <td>No</td>\n",
       "      <td>35786</td>\n",
       "      <td>152</td>\n",
       "      <td>53</td>\n",
       "    </tr>\n",
       "  </tbody>\n",
       "</table>\n",
       "</div>"
      ],
      "text/plain": [
       "  Gender  Age  Driving_License  Region_Code  Previously_Insured Vehicle_Age  \\\n",
       "0   Male   25                1           11                   1    < 1 Year   \n",
       "\n",
       "  Vehicle_Damage  Annual_Premium  Policy_Sales_Channel  Vintage  \n",
       "0             No           35786                   152       53  "
      ]
     },
     "execution_count": 5,
     "metadata": {},
     "output_type": "execute_result"
    }
   ],
   "source": [
    "pathData = os.getcwd()+\"\\\\\"+\"data\"+\"\\\\\"\n",
    "data = pd.read_csv(pathData + 'test.csv')\n",
    "data = data.drop('id', axis=1)\n",
    "data.head(1)"
   ]
  },
  {
   "cell_type": "code",
   "execution_count": 6,
   "metadata": {},
   "outputs": [
    {
     "data": {
      "text/plain": [
       "0"
      ]
     },
     "execution_count": 6,
     "metadata": {},
     "output_type": "execute_result"
    }
   ],
   "source": [
    "X = runModel(data.head(1), typed='single')\n",
    "X"
   ]
  }
 ],
 "metadata": {
  "kernelspec": {
   "display_name": "Python 3.9.12 ('base')",
   "language": "python",
   "name": "python3"
  },
  "language_info": {
   "codemirror_mode": {
    "name": "ipython",
    "version": 3
   },
   "file_extension": ".py",
   "mimetype": "text/x-python",
   "name": "python",
   "nbconvert_exporter": "python",
   "pygments_lexer": "ipython3",
   "version": "3.9.12"
  },
  "vscode": {
   "interpreter": {
    "hash": "19d1d53a962d236aa061289c2ac16dc8e6d9648c89fe79f459ae9a3493bc67b4"
   }
  }
 },
 "nbformat": 4,
 "nbformat_minor": 4
}
